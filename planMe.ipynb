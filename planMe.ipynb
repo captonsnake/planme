{
 "cells": [
  {
   "cell_type": "markdown",
   "id": "706f9790-93d1-45bf-b2cb-769820bd6da9",
   "metadata": {},
   "source": [
    "# planMe"
   ]
  },
  {
   "cell_type": "markdown",
   "id": "bd2cd9b0-9501-48d0-973c-ee0fa3785c93",
   "metadata": {},
   "source": [
    "## Configuration"
   ]
  },
  {
   "cell_type": "code",
   "execution_count": 781,
   "id": "ad66b137-01c8-45bc-9091-ff56c967345f",
   "metadata": {},
   "outputs": [],
   "source": [
    "BASD = \"20110606\"\n",
    "ETS = \"20220827\"\n",
    "DOR = [\n",
    "    (\"E-3\", BASD),\n",
    "    (\"E-4\", \"20130801\"),\n",
    "    (\"E-5\", \"20140601\"),\n",
    "    (\"E-6\", \"20180101\"),\n",
    "    (\"W-1\", \"20211101\"),\n",
    "    (\"W-2\", \"20231101\"),\n",
    "    (\"W-3\", \"20281101\"),\n",
    "    (\"W-4\", \"20341101\")\n",
    "]\n",
    "\n",
    "BIRTHDAY = \"19920821\"\n",
    "\n",
    "zipcode = \"21144\"\n",
    "dependants = False\n",
    "\n",
    "BRS = True\n",
    "\n",
    "retirementYears = 20\n",
    "\n",
    "# Format: (Name, Amount, Start date, End Date, Taxable),\n",
    "AdditionalIncomes = [\n",
    "    (\"AIP\", 1000, \"20191101\", \"\", False),\n",
    "    (\"SDAP\", 150, \"20191101\", DOR[4][1], False),\n",
    "    (\"BAS\", 375, BASD, DOR[4][1], False),\n",
    "    (\"BAS2\", 258, DOR[4][1], \"\", False)\n",
    "]\n",
    "\n",
    "deductions = [\n",
    "#     (\"Alimony\", 1200, \"20200401\", \"20210801\"),\n",
    "]\n",
    "\n",
    "# ( amount, Years)\n",
    "reenlistmentBonuses = [\n",
    "    (82000, \"20210801\", 6),\n",
    "]"
   ]
  },
  {
   "cell_type": "markdown",
   "id": "4b30b251-9d82-4c5e-9404-79bc6c252f1e",
   "metadata": {},
   "source": [
    "## Data Injest"
   ]
  },
  {
   "cell_type": "code",
   "execution_count": 782,
   "id": "6d09c894-3465-49df-b1e3-b66626b78c35",
   "metadata": {
    "tags": []
   },
   "outputs": [],
   "source": [
    "taxBrackets = [\n",
    "    (9875, .1),\n",
    "    (40125, .12),\n",
    "    (85525, .22),\n",
    "    (163300, .24),\n",
    "    (207350, .32),\n",
    "    (518400, .35),\n",
    "    (999999999, .37)\n",
    "]\n",
    "\n",
    "ranks = [\n",
    "    \"E-1\",\n",
    "    \"E-2\",\n",
    "    \"E-3\",\n",
    "    \"E-4\",\n",
    "    \"E-5\",\n",
    "    \"E-6\",\n",
    "    \"E-7\",\n",
    "    \"E-8\",\n",
    "    \"E-9\",\n",
    "    \"W-1\",\n",
    "    \"W-2\",\n",
    "    \"W-3\",\n",
    "    \"W-4\",\n",
    "    \"W-5\",\n",
    "    \"O-1E\",\n",
    "    \"O-2E\",\n",
    "    \"O-3E\",\n",
    "    \"O-1\",\n",
    "    \"O-2\",\n",
    "    \"O-3\",\n",
    "    \"O-4\",\n",
    "    \"O-5\",\n",
    "    \"O-6\",\n",
    "    \"O-7\"\n",
    "]"
   ]
  },
  {
   "cell_type": "code",
   "execution_count": 783,
   "id": "3db91e95-e566-4a5c-8d4d-8ecf701a6254",
   "metadata": {},
   "outputs": [
    {
     "name": "stdout",
     "output_type": "stream",
     "text": [
      "24\n"
     ]
    }
   ],
   "source": [
    "print(len(ranks))"
   ]
  },
  {
   "cell_type": "code",
   "execution_count": 784,
   "id": "2269a700-d4e5-4fc4-9b8c-a294d15a994c",
   "metadata": {
    "tags": []
   },
   "outputs": [],
   "source": [
    "with open(\"withDepend.txt\", \"r\") as f:\n",
    "    withDependstr = f.read()\n",
    "\n",
    "withDepend = withDependstr.strip().split('\\n')"
   ]
  },
  {
   "cell_type": "code",
   "execution_count": 785,
   "id": "68a5a272-37a0-467c-abb4-97dbe41f10d1",
   "metadata": {},
   "outputs": [],
   "source": [
    "withDependComb = {}\n",
    "\n",
    "for line in withDepend:\n",
    "    if line.startswith(\"ZZ\"):\n",
    "        continue\n",
    "    left = line.split()\n",
    "    mha = left[0]\n",
    "    withDependComb[mha] = {}\n",
    "    i = 0\n",
    "    for cell in left[1:]:\n",
    "        if cell.isnumeric():\n",
    "            try:\n",
    "                withDependComb[mha][ranks[i]] = float(cell)\n",
    "            except Exception as e:\n",
    "                print(e)\n",
    "                print(cell)\n",
    "                print(i)\n",
    "                print(line)\n",
    "            i += 1"
   ]
  },
  {
   "cell_type": "code",
   "execution_count": 786,
   "id": "08e35fb1-fad1-4797-bdbe-5d44a7786f45",
   "metadata": {
    "tags": []
   },
   "outputs": [],
   "source": [
    "with open(\"withoutDepend.txt.new\", \"r\") as f:             \n",
    "    withoutDependstr = f.read()\n",
    "\n",
    "withoutDepend = withoutDependstr.strip().split('\\n')"
   ]
  },
  {
   "cell_type": "code",
   "execution_count": 787,
   "id": "768b3037-da0f-4a35-8568-2ee43a564014",
   "metadata": {},
   "outputs": [],
   "source": [
    "withoutDependComb = {}\n",
    "\n",
    "for line in withoutDepend:\n",
    "    if line.startswith(\"ZZ\"):\n",
    "        continue\n",
    "    left = line.split()\n",
    "    mha = left[0]\n",
    "    withoutDependComb[mha] = {}\n",
    "    i = 0\n",
    "    for cell in left[1:]:\n",
    "        if cell.isnumeric():\n",
    "            withoutDependComb[mha][ranks[i]] = float(cell)\n",
    "            i += 1"
   ]
  },
  {
   "cell_type": "code",
   "execution_count": 788,
   "id": "df752a96-c385-4c41-883a-ed736ba85284",
   "metadata": {},
   "outputs": [],
   "source": [
    "mhaCodes = {}\n",
    "with open(\"BAH2021/sorted_zipmha21.txt\") as f:\n",
    "    for line in f:\n",
    "        zipCode, mha = line.split()\n",
    "        mhaCodes[zipCode] = mha"
   ]
  },
  {
   "cell_type": "markdown",
   "id": "aae91819-b494-4636-b592-60993c11cc23",
   "metadata": {},
   "source": [
    "### Format Military Pay Scale"
   ]
  },
  {
   "cell_type": "code",
   "execution_count": 789,
   "id": "87e75234-2fed-4b98-93f5-7e701339104c",
   "metadata": {
    "tags": []
   },
   "outputs": [],
   "source": [
    "with open(\"payscale.txt\", \"r\") as f:\n",
    "    milPayScaleStr = f.read()"
   ]
  },
  {
   "cell_type": "code",
   "execution_count": 790,
   "id": "b7dee308-a532-475e-97f4-2b1a6f3e5855",
   "metadata": {},
   "outputs": [],
   "source": [
    "milPay = dict()\n",
    "for line in milPayScaleStr.strip().split(\"\\n\")[1:]:\n",
    "    row = line.split()\n",
    "    row[0] = row[0].replace('*',\"\")\n",
    "    milPay[row[0]] = []\n",
    "    j = 0\n",
    "    prev = 0.0\n",
    "    for val in row[1:]:\n",
    "        if val == \">4\" or val == \"<4\" or val == \"Mon\":\n",
    "            val = row[3]\n",
    "        fVal = float(val)\n",
    "        if j == 0:\n",
    "            milPay[row[0]].append(fVal)\n",
    "            milPay[row[0]].append(fVal)\n",
    "            j=1\n",
    "        elif j < 4:\n",
    "            milPay[row[0]].append(fVal)\n",
    "            j+=1\n",
    "        else:\n",
    "            milPay[row[0]].append(fVal)\n",
    "            milPay[row[0]].append(fVal)\n",
    "            j+=2"
   ]
  },
  {
   "cell_type": "markdown",
   "id": "097cfc3c-0a09-4669-ba87-b43f2ea838d9",
   "metadata": {},
   "source": [
    "### Generate Monthly Income"
   ]
  },
  {
   "cell_type": "markdown",
   "id": "056b8d77-fcac-4815-a996-5249b531ac8c",
   "metadata": {},
   "source": [
    "Fix Date and times"
   ]
  },
  {
   "cell_type": "code",
   "execution_count": 791,
   "id": "9af0df7c-6c08-4ecf-9473-1a6e32bee335",
   "metadata": {},
   "outputs": [],
   "source": [
    "from datetime import datetime as dt\n",
    "\n",
    "fmt = \"%Y%m%d\"\n",
    "\n",
    "basd = dt.strptime(BASD, fmt).replace(day=1)\n",
    "ets = dt.strptime(ETS, fmt).replace(day=1)\n",
    "birthday = dt.strptime(BIRTHDAY, fmt).replace(day=1)\n",
    "dor = {}\n",
    "for rank, date in DOR:\n",
    "    dor[dt.strptime(date, fmt).replace(day=1)] = rank\n",
    "\n",
    "\n",
    "addtlPays = []\n",
    "for _, amount, start, end, tax in AdditionalIncomes:\n",
    "    if end == \"\":\n",
    "        addtlPays.append((amount, dt.strptime(start, fmt), retirement, tax))\n",
    "    else:\n",
    "        addtlPays.append((amount, dt.strptime(start, fmt), dt.strptime(end, fmt), tax))\n",
    "        \n",
    "deduct = []\n",
    "for _, amount, start, end in deductions:\n",
    "    if end == \"\":\n",
    "        deduct.append((amount, dt.strptime(start, fmt), retirement))\n",
    "    else:\n",
    "        deduct.append((amount, dt.strptime(start, fmt), dt.strptime(end, fmt)))\n",
    "        \n",
    "bonuss = []\n",
    "for amount, start, yrs in reenlistmentBonuses:\n",
    "    bonuss.append((amount, dt.strptime(start, fmt), yrs))\n",
    "    "
   ]
  },
  {
   "cell_type": "markdown",
   "id": "61542fea-a924-4756-abdf-5f78ebed3b38",
   "metadata": {},
   "source": [
    "Create Retirement date"
   ]
  },
  {
   "cell_type": "code",
   "execution_count": 792,
   "id": "13fc1ff2-295f-41ec-9ee8-40e74d870844",
   "metadata": {},
   "outputs": [],
   "source": [
    "from datetime import timedelta\n",
    "retirement = basd + timedelta(days=(retirementYears*365))\n",
    "retirement = retirement.replace(day=1)"
   ]
  },
  {
   "cell_type": "markdown",
   "id": "cbb33d4e-955d-47fd-ad90-e12aff54769e",
   "metadata": {},
   "source": [
    "Create Death at 90 years old"
   ]
  },
  {
   "cell_type": "code",
   "execution_count": 793,
   "id": "cb291b4e-b1fb-45ec-8af1-13e56230a6d3",
   "metadata": {},
   "outputs": [],
   "source": [
    "death = birthday + timedelta(days = (90 *365))\n",
    "death = death.replace(day=1)"
   ]
  },
  {
   "cell_type": "markdown",
   "id": "fb3d5e82-45cf-4341-b9a9-3507f3e2299d",
   "metadata": {},
   "source": [
    "Generate Months"
   ]
  },
  {
   "cell_type": "code",
   "execution_count": 794,
   "id": "60b84f75-a82f-40af-982f-74d27a2d919f",
   "metadata": {},
   "outputs": [],
   "source": [
    "from dateutil import rrule\n",
    "from dateutil.relativedelta import relativedelta\n",
    "\n",
    "months = {}\n",
    "\n",
    "curRank = dor[basd]\n",
    "for month in rrule.rrule(rrule.MONTHLY, dtstart=basd, until=death):\n",
    "        months[month] = 0"
   ]
  },
  {
   "cell_type": "markdown",
   "id": "6e6d4dd8-04c3-4686-bc3b-76ad40c5229c",
   "metadata": {},
   "source": [
    "Add Base Pay"
   ]
  },
  {
   "cell_type": "code",
   "execution_count": 795,
   "id": "6e334a28-bb47-41f9-92fb-1649ff04d6f8",
   "metadata": {},
   "outputs": [],
   "source": [
    "curRank = dor[basd]\n",
    "for month in rrule.rrule(rrule.MONTHLY, dtstart=basd, until=retirement):\n",
    "    yos = relativedelta(month, basd).years\n",
    "    if month in dor:\n",
    "        curRank = dor[month]\n",
    "    months[month] = milPay[curRank][yos]"
   ]
  },
  {
   "cell_type": "markdown",
   "id": "5dcf3bcf-fa57-4937-89f5-1b8f69b485d3",
   "metadata": {},
   "source": [
    "for item in months.items():\n",
    "    print(item)"
   ]
  },
  {
   "cell_type": "markdown",
   "id": "538c71f1-e911-40f8-b9d1-5ebf944a702a",
   "metadata": {},
   "source": [
    "Generate Pension from Base Pay"
   ]
  },
  {
   "cell_type": "code",
   "execution_count": 796,
   "id": "e97e9645-1a53-4962-878b-e50e23eca196",
   "metadata": {},
   "outputs": [],
   "source": [
    "high3Start = retirement + relativedelta(years=-3)\n",
    "high3Start = high3Start.replace(day=1)"
   ]
  },
  {
   "cell_type": "code",
   "execution_count": 797,
   "id": "0f79b2e1-1cef-4645-8ee6-5b31714ce910",
   "metadata": {},
   "outputs": [],
   "source": [
    "total = 0\n",
    "for month in rrule.rrule(rrule.MONTHLY, dtstart=high3Start, until=retirement):\n",
    "    total += months[month]"
   ]
  },
  {
   "cell_type": "markdown",
   "id": "65200325-53f2-4383-85b5-026a7758d37d",
   "metadata": {},
   "source": [
    "Calculate pension multiplyer"
   ]
  },
  {
   "cell_type": "code",
   "execution_count": 798,
   "id": "ec773d85-4139-41e4-9d58-c2c74a209b5a",
   "metadata": {},
   "outputs": [],
   "source": [
    "mul = .025 if BRS else .02"
   ]
  },
  {
   "cell_type": "code",
   "execution_count": 799,
   "id": "bacfefed-bc03-4336-ba44-98bf5c8baedf",
   "metadata": {},
   "outputs": [],
   "source": [
    "pension = (total / 36) * (mul * retirementYears)"
   ]
  },
  {
   "cell_type": "markdown",
   "id": "de226979-35a8-468f-9cd3-e494888e3895",
   "metadata": {},
   "source": [
    "Add Pension to months after retirement"
   ]
  },
  {
   "cell_type": "code",
   "execution_count": 800,
   "id": "5bae4ccd-09d6-43dc-b037-858c4c3ce916",
   "metadata": {},
   "outputs": [],
   "source": [
    "pensionStart = retirement + relativedelta(months=+1)\n",
    "pensionStart = pensionStart.replace(day=1)\n",
    "for month in rrule.rrule(rrule.MONTHLY, dtstart=pensionStart, until=death):\n",
    "    months[month] += pension"
   ]
  },
  {
   "cell_type": "markdown",
   "id": "c6c3b303-bf49-4cb4-8950-5dc08af76deb",
   "metadata": {},
   "source": [
    "Add additonal duty pays"
   ]
  },
  {
   "cell_type": "code",
   "execution_count": 801,
   "id": "4b52a379-4d74-488d-ad15-620cea19814e",
   "metadata": {
    "tags": []
   },
   "outputs": [],
   "source": [
    "for amount, start, end, tax in addtlPays:\n",
    "    for month in rrule.rrule(rrule.MONTHLY, dtstart=basd, until=retirement):\n",
    "        if month >= start and (end == \"\" or month < end):\n",
    "            months[month] += amount"
   ]
  },
  {
   "cell_type": "markdown",
   "id": "cd9a728f-f07e-4739-a8eb-1ebb9ab9c4e8",
   "metadata": {},
   "source": [
    "Add Bonus'"
   ]
  },
  {
   "cell_type": "code",
   "execution_count": 802,
   "id": "fb897f1a-ee4e-428a-9de4-53d89afa65a9",
   "metadata": {},
   "outputs": [],
   "source": [
    "for amount, date, yrs in bonuss:\n",
    "    monthly = (amount)/(yrs * 12)\n",
    "    end = date + relativedelta(months=+(yrs * 12))\n",
    "    for month in rrule.rrule(rrule.MONTHLY, dtstart=date, until=end):\n",
    "        months[month] += monthly"
   ]
  },
  {
   "cell_type": "markdown",
   "id": "680100bb-ae33-441d-97b0-ae728f4ceef2",
   "metadata": {},
   "source": [
    "Remove Taxes"
   ]
  },
  {
   "cell_type": "code",
   "execution_count": 803,
   "id": "34f9e9ff-2cd6-4ca4-bae5-b5a884b8f1a8",
   "metadata": {},
   "outputs": [],
   "source": [
    "for month in rrule.rrule(rrule.MONTHLY, dtstart=basd, until=retirement):\n",
    "    amount = months[month]\n",
    "    anual = amount * 12\n",
    "    owed = 0\n",
    "    for cap, per in taxBrackets:\n",
    "        if anual < 0:\n",
    "            break\n",
    "        if anual > cap:\n",
    "            owed = cap * per\n",
    "            anual -= cap\n",
    "        elif anual < cap:\n",
    "            owed = anual * per\n",
    "            break\n",
    "    months[month] -= owed / 12"
   ]
  },
  {
   "cell_type": "markdown",
   "id": "f1c6dc5d-c8c9-4cd6-a7ba-9a599bb96f6d",
   "metadata": {},
   "source": [
    "Add BAH Rates"
   ]
  },
  {
   "cell_type": "code",
   "execution_count": 804,
   "id": "89018fce-e173-46b5-92fe-d628dcc13026",
   "metadata": {},
   "outputs": [],
   "source": [
    "curRank = dor[basd]\n",
    "for month in rrule.rrule(rrule.MONTHLY, dtstart=basd, until=retirement):\n",
    "    yos = relativedelta(month, basd).years\n",
    "    if month in dor:\n",
    "        curRank = dor[month]\n",
    "    mhaCode = mhaCodes[zipcode]\n",
    "    if dependants:\n",
    "        months[month] += withDependComb[mhaCode][curRank]\n",
    "    else:\n",
    "        months[month] += withoutDependComb[mhaCode][curRank]"
   ]
  },
  {
   "cell_type": "markdown",
   "id": "dd144a4f-1d0f-413b-8ad7-fa296535c35b",
   "metadata": {},
   "source": [
    "Remove deductions"
   ]
  },
  {
   "cell_type": "code",
   "execution_count": 805,
   "id": "0efe4446-40d1-43d6-b79e-c5e011071bab",
   "metadata": {
    "tags": []
   },
   "outputs": [],
   "source": [
    "for amount, start, end in deduct:\n",
    "    for month in rrule.rrule(rrule.MONTHLY, dtstart=basd, until=retirement):\n",
    "        if month >= start and (end == \"\" or month < end):\n",
    "            months[month] -= amount"
   ]
  },
  {
   "cell_type": "markdown",
   "id": "f1b9b2fb-5449-460d-8099-8b01e372278a",
   "metadata": {},
   "source": [
    "## Display Data"
   ]
  },
  {
   "cell_type": "markdown",
   "id": "feedf94b-26bd-4e7e-b1eb-a4d8d8995720",
   "metadata": {},
   "source": [
    "### Stay until Retirement"
   ]
  },
  {
   "cell_type": "code",
   "execution_count": 806,
   "id": "fcba01c5-a54f-4eaa-a396-3bc66c647a49",
   "metadata": {},
   "outputs": [],
   "source": [
    "# for item in months.items():\n",
    "#     print(item)"
   ]
  },
  {
   "cell_type": "markdown",
   "id": "a785962b-764f-4da0-a52c-9e8b2f2254a1",
   "metadata": {},
   "source": [
    "### Get Out at current ETS"
   ]
  },
  {
   "cell_type": "code",
   "execution_count": 807,
   "id": "c88a684d-dc9c-47c7-9909-7b60c0eabb35",
   "metadata": {},
   "outputs": [],
   "source": [
    "yearlyInterstGoal = pension * 12\n",
    "\n",
    "neededInvestment = yearlyInterstGoal / .08\n",
    "\n",
    "growthTime = retirement - ets"
   ]
  },
  {
   "cell_type": "code",
   "execution_count": 808,
   "id": "6e56959c-8743-4439-a3e5-fd37b4855e9e",
   "metadata": {},
   "outputs": [],
   "source": [
    "yearsToGrow = int(abs(growthTime.days / 365)) + 1"
   ]
  },
  {
   "cell_type": "code",
   "execution_count": 809,
   "id": "322d9e21-f907-48e9-bd44-7be38a042828",
   "metadata": {},
   "outputs": [],
   "source": [
    "monthlyInvestment = 0\n",
    "i = 0\n",
    "while(True):\n",
    "    total = 0\n",
    "    for j in range(0, yearsToGrow):\n",
    "        total = (total + (i * 12)) * 1.08\n",
    "    if total > neededInvestment:\n",
    "        monthlyInvestment = i\n",
    "        break\n",
    "    i += 1"
   ]
  },
  {
   "cell_type": "code",
   "execution_count": 810,
   "id": "5552b4b2-e91f-4135-b08c-acc0eeea0cf0",
   "metadata": {},
   "outputs": [
    {
     "name": "stdout",
     "output_type": "stream",
     "text": [
      "3147\n"
     ]
    }
   ],
   "source": [
    "print(monthlyInvestment)"
   ]
  },
  {
   "cell_type": "markdown",
   "id": "f6688424-42db-4de5-83ee-5a4ebf398c82",
   "metadata": {},
   "source": [
    "Add the monthly Investment required to income after ETS before Retirement"
   ]
  },
  {
   "cell_type": "code",
   "execution_count": 811,
   "id": "74e7af47-e729-484c-af92-395e1c52f311",
   "metadata": {},
   "outputs": [
    {
     "name": "stdout",
     "output_type": "stream",
     "text": [
      "ets 2022-08-01 00:00:00 ret 2031-05-01 00:00:00\n"
     ]
    }
   ],
   "source": [
    "outMonths = {}\n",
    "print(f\"ets {ets} ret {retirement}\")\n",
    "for month in rrule.rrule(rrule.MONTHLY, dtstart=ets, until=retirement):\n",
    "    outMonths[month] = months[month] + monthlyInvestment"
   ]
  },
  {
   "cell_type": "markdown",
   "id": "b9709d53-35c6-4e0f-afc8-8a9680a63df7",
   "metadata": {},
   "source": [
    "Aproximate the Anual income required to match the income of military service while investing to generate enough money to create an equalivent \"pension\""
   ]
  },
  {
   "cell_type": "code",
   "execution_count": 812,
   "id": "fd2063a9-1354-40a5-a0ff-f6aee4bb9c29",
   "metadata": {},
   "outputs": [
    {
     "name": "stdout",
     "output_type": "stream",
     "text": [
      "Anual Income required: $168731.62\n",
      "Anual Income required: $168731.62\n",
      "Anual Income required: $178169.05\n",
      "Anual Income required: $178169.05\n",
      "Anual Income required: $180226.86\n",
      "Anual Income required: $180226.86\n",
      "Anual Income required: $168867.81\n",
      "Anual Income required: $179372.40\n",
      "Anual Income required: $182460.87\n"
     ]
    }
   ],
   "source": [
    "for year in rrule.rrule(rrule.YEARLY,  dtstart=ets, until=retirement):\n",
    "    anual = outMonths[year] * 12\n",
    "    owed = 0\n",
    "    for cap, per in taxBrackets:\n",
    "        if anual < 0:\n",
    "            break\n",
    "        if anual > cap:\n",
    "            owed += cap * per\n",
    "            anual -= cap\n",
    "        elif anual < cap:\n",
    "            owed += anual * per\n",
    "            break\n",
    "    anual = outMonths[year] * 12\n",
    "    print(f\"Anual Income required: ${anual + owed:.2f}\")"
   ]
  },
  {
   "cell_type": "code",
   "execution_count": null,
   "id": "a99f77d5-762b-42ee-a6a8-1fb760b6e9a0",
   "metadata": {},
   "outputs": [],
   "source": []
  },
  {
   "cell_type": "code",
   "execution_count": 813,
   "id": "7af66c15-e0fe-4009-a120-893fa5c5c0e4",
   "metadata": {},
   "outputs": [],
   "source": [
    "# for item in months.items():\n",
    "#     print(item)"
   ]
  },
  {
   "cell_type": "code",
   "execution_count": null,
   "id": "823e3d97-37b1-4294-af37-9fb8894caa79",
   "metadata": {},
   "outputs": [],
   "source": []
  }
 ],
 "metadata": {
  "kernelspec": {
   "display_name": "Python 3",
   "language": "python",
   "name": "python3"
  },
  "language_info": {
   "codemirror_mode": {
    "name": "ipython",
    "version": 3
   },
   "file_extension": ".py",
   "mimetype": "text/x-python",
   "name": "python",
   "nbconvert_exporter": "python",
   "pygments_lexer": "ipython3",
   "version": "3.8.5"
  }
 },
 "nbformat": 4,
 "nbformat_minor": 5
}
