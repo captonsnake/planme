{
 "cells": [
  {
   "cell_type": "code",
   "execution_count": 1,
   "id": "e24cd931-d3c4-460f-bbfd-5461cefd60d8",
   "metadata": {},
   "outputs": [
    {
     "name": "stdout",
     "output_type": "stream",
     "text": [
      "\u001b[0m\u001b[01;34mBAH2021\u001b[0m/            Untitled.ipynb         withoutDepend.txt\n",
      "payscale.txt        untitled.md            withoutDepend.txt.new\n",
      "planMeBetter.ipynb  withDepend.txt\n",
      "planMe.ipynb        withoutDependCont.txt\n"
     ]
    }
   ],
   "source": [
    "%ls"
   ]
  },
  {
   "cell_type": "code",
   "execution_count": 136,
   "id": "8e066106-8de3-4a19-8fdf-a141d07a8122",
   "metadata": {},
   "outputs": [],
   "source": [
    "removes = [\"<4 \", \">4 \", \"Mon \", \"*\"]\n",
    "with open(\"payscale.txt\", \"r\") as f:\n",
    "    with open(\"payscale.csv\", \"w\") as j:\n",
    "        for line in f:\n",
    "            for remove in removes:\n",
    "                line = line.replace(remove, \"\")\n",
    "                line = line.replace(\"<2\", \"1\")\n",
    "            line = line.replace(\" \",\",\")\n",
    "            j.write(line)\n",
    "        "
   ]
  },
  {
   "cell_type": "code",
   "execution_count": 137,
   "id": "d2c9ffdc-e9a6-4b58-9213-87a5ad541ad7",
   "metadata": {},
   "outputs": [],
   "source": [
    "#!cat --number payscale.csv"
   ]
  },
  {
   "cell_type": "code",
   "execution_count": 138,
   "id": "e603eef6-6106-4880-bff9-7711e687d05c",
   "metadata": {},
   "outputs": [],
   "source": [
    "import pandas as pd"
   ]
  },
  {
   "cell_type": "code",
   "execution_count": 139,
   "id": "6faa4406-816e-4dd6-94bd-71665924ccc8",
   "metadata": {},
   "outputs": [],
   "source": [
    "df = pd.read_csv(\"payscale.csv\", index_col=0)"
   ]
  },
  {
   "cell_type": "code",
   "execution_count": 161,
   "id": "322e7ab2-afc3-4106-ac7a-25152a9c5860",
   "metadata": {},
   "outputs": [],
   "source": [
    "cols = list(df.columns)\n",
    "for col in cols:\n",
    "    if col == 1:\n",
    "        df[\"0\"] = df[\"1\"]\n",
    "    elif int(col) >= 4 and int(col) < 40 and int(col) % 2 == 0:\n",
    "        df[str(int(col) + 1)] = df[col]"
   ]
  },
  {
   "cell_type": "code",
   "execution_count": 168,
   "id": "bfe442fd-01ca-4f1f-b776-a36ed555db8e",
   "metadata": {},
   "outputs": [],
   "source": [
    "cols = list(df.columns)\n",
    "cols.sort(key=int)\n",
    "df = df.reindex(cols, axis = 1)"
   ]
  },
  {
   "cell_type": "code",
   "execution_count": 171,
   "id": "38f3166c-c134-43ed-96a8-99bc8193ad80",
   "metadata": {},
   "outputs": [],
   "source": [
    "with open(\"payscale_extended.csv\", \"w\") as f:\n",
    "    f.write(df.to_csv())"
   ]
  }
 ],
 "metadata": {
  "kernelspec": {
   "display_name": "Python 3",
   "language": "python",
   "name": "python3"
  },
  "language_info": {
   "codemirror_mode": {
    "name": "ipython",
    "version": 3
   },
   "file_extension": ".py",
   "mimetype": "text/x-python",
   "name": "python",
   "nbconvert_exporter": "python",
   "pygments_lexer": "ipython3",
   "version": "3.8.5"
  }
 },
 "nbformat": 4,
 "nbformat_minor": 5
}
